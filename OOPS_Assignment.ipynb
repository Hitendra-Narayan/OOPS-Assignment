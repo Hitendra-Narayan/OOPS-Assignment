{
  "nbformat": 4,
  "nbformat_minor": 0,
  "metadata": {
    "colab": {
      "provenance": []
    },
    "kernelspec": {
      "name": "python3",
      "display_name": "Python 3"
    },
    "language_info": {
      "name": "python"
    }
  },
  "cells": [
    {
      "cell_type": "code",
      "execution_count": null,
      "metadata": {
        "id": "5M1U2G4NdQ76"
      },
      "outputs": [],
      "source": []
    },
    {
      "cell_type": "markdown",
      "source": [
        "#Q 01. What are the five key concepts of Object-Oriented Programming (OOP)?\n",
        "\n",
        "The five key concepts of Object-Oriented Programming (OOP) are:\n",
        "Classes and Objects:\n",
        "A class is like a blueprint, and an object is an instance of that class. Think of a class as a cookie cutter and an object as the actual cookie.\n",
        "\n",
        "Encapsulation:\n",
        "It means bundling the data (variables) and the methods (functions) that operate on the data into one unit (the object), and restricting direct access to some of the object's components.\n",
        "It's like a capsule that protects what's inside from the outside world.\n",
        "\n",
        "Inheritance:\n",
        "Inheritance allows one class (child class) to inherit the attributes and methods of another class (parent class).\n",
        "It's like children inheriting traits from their parents.\n",
        "\n",
        "Polymorphism:\n",
        "Polymorphism allows methods to do different things based on the object they're called on.\n",
        "It's like one word having different meanings depending on context (e.g., \"run\" can mean running a race or running a program).\n",
        "\n",
        "Abstraction:\n",
        "Abstraction hides complex details and shows only the essential features.\n",
        "It's like using a remote control—you don't need to know how it works internally, just how to press the buttons to get the TV working."
      ],
      "metadata": {
        "id": "vS6rR6z_dUAj"
      }
    },
    {
      "cell_type": "code",
      "source": [
        "#Q 02. Write a Python class for a `Car` with attributes for `make`, `model`, and `year`. Include a method to display the car's information.\n",
        "class Car:\n",
        "    def __init__(self, make, model, year):\n",
        "        self.make = make\n",
        "        self.model = model\n",
        "        self.year = year\n",
        "\n",
        "    def display_info(self):\n",
        "        print (f\"Car: {self.year} {self.make} {self.model}\")\n",
        "\n",
        "my_car = Car(\"Hyundai\", \"Creta\", 2023) #creating a Car object and displaying its information\n",
        "my_car.display_info()\n"
      ],
      "metadata": {
        "colab": {
          "base_uri": "https://localhost:8080/"
        },
        "id": "dFm5nRe6dZJs",
        "outputId": "27f112af-fd4a-42e5-df29-0972eff37270"
      },
      "execution_count": null,
      "outputs": [
        {
          "output_type": "stream",
          "name": "stdout",
          "text": [
            "Car: 2023 Hyundai Creta\n"
          ]
        }
      ]
    },
    {
      "cell_type": "markdown",
      "source": [
        "#Q 03. Explain the difference between instance methods and class methods. Provide an example of each.\n",
        "\n",
        "1. Instance Methods:\n",
        "   Instance methods work with individual objects (instances) of a class.\n",
        "   They can access and modify the attributes of that specific instance.\n",
        "   The first parameter is always self, which refers to the object calling the method.\n",
        "\n",
        "2. Class Methods:\n",
        "   Class methods work with the class itself, not individual objects.\n",
        "   They cannot modify specific object attributes but can modify class-level data.\n",
        "   The first parameter is cls, which refers to the class.\n",
        "   To define a class method, you use the @classmethod decorator."
      ],
      "metadata": {
        "id": "UXWyNjKsdlcc"
      }
    },
    {
      "cell_type": "code",
      "source": [
        "#Example:\n",
        "\n",
        "class Car:\n",
        "    # Class attribute (shared by all instances)\n",
        "    total_cars = 0\n",
        "\n",
        "    def __init__(self, make, model, year):\n",
        "        # Instance attributes (unique to each instance)\n",
        "        self.make = make\n",
        "        self.model = model\n",
        "        self.year = year\n",
        "        Car.total_cars += 1  # Increment total cars for each new car\n",
        "\n",
        "    # Instance method\n",
        "    def display_info(self):\n",
        "        print (f\"Car: {self.year} {self.make} {self.model}\")\n",
        "\n",
        "    # Class method\n",
        "    @classmethod\n",
        "    def display_total_cars(cls):\n",
        "        print (f\"Total cars created: {cls.total_cars}\")\n",
        "\n",
        "# Example of using instance and class methods\n",
        "car1 = Car(\"Hyundai\", \"Creta\", 2023)\n",
        "car2 = Car(\"Mahindra\", \"Thar\", 2023)\n",
        "\n",
        "# Calling instance method on an object\n",
        "car1.display_info()\n",
        "car2.display_info()\n",
        "\n",
        "# Calling class method\n",
        "Car.display_total_cars()"
      ],
      "metadata": {
        "colab": {
          "base_uri": "https://localhost:8080/"
        },
        "id": "oVapsjGedm-o",
        "outputId": "7ce21714-c01f-413b-dc99-edb75c4bdc11"
      },
      "execution_count": null,
      "outputs": [
        {
          "output_type": "stream",
          "name": "stdout",
          "text": [
            "Car: 2023 Hyundai Creta\n",
            "Car: 2023 Mahindra Thar\n",
            "Total cars created: 2\n"
          ]
        }
      ]
    },
    {
      "cell_type": "markdown",
      "source": [
        "#Q 04. How does Python implement method overloading? Give an example.\n",
        "\n",
        "Python doesn't natively support method overloading (defining multiple methods with the same name but different signatures). Instead, Python uses flexible approaches like:\n",
        "\n",
        "Default Arguments: Define a single method that uses default values for parameters.\n",
        "Variable-length Arguments: Use *args and **kwargs to accept an arbitrary number of positional or keyword arguments.\n",
        "Type Checking: Use if statements to check argument types and handle behavior accordingly."
      ],
      "metadata": {
        "id": "tBo7exDldxDI"
      }
    },
    {
      "cell_type": "code",
      "source": [
        "#Example:\n",
        "\n",
        "class Calculator:\n",
        "    # Single method handling different argument scenarios\n",
        "    def add(self, *args):\n",
        "        if len(args) == 1:\n",
        "            return args[0]\n",
        "        elif len(args) == 2:\n",
        "            return args[0] + args[1]\n",
        "        elif len(args) == 3:\n",
        "            return args[0] + args[1] + args[2]\n",
        "        else:\n",
        "            return \"Invalid number of arguments\"\n",
        "\n",
        "# Create an object\n",
        "calc = Calculator()\n",
        "\n",
        "# Method overloading behavior using a single method\n",
        "print (calc.add(5))            # (one argument)\n",
        "print (calc.add(5, 10))        # (two arguments)\n",
        "print (calc.add(5, 10, 15))    # (three arguments)\n",
        "print (calc.add(5, 10, 15, 20))# Invalid number of arguments\n",
        "\n",
        "#So, Python uses this kind of logic to mimic overloading instead of defining multiple methods with the same name but different parameters."
      ],
      "metadata": {
        "colab": {
          "base_uri": "https://localhost:8080/"
        },
        "id": "eLJGm1iKd0hx",
        "outputId": "81d3afc5-c8ac-444b-d50d-61bcdbb3f606"
      },
      "execution_count": null,
      "outputs": [
        {
          "output_type": "stream",
          "name": "stdout",
          "text": [
            "5\n",
            "15\n",
            "30\n",
            "Invalid number of arguments\n"
          ]
        }
      ]
    },
    {
      "cell_type": "markdown",
      "source": [
        "#Q 05. What are the three types of access modifiers in Python? How are they denoted?\n",
        "\n",
        "Access modifiers are used to control the visibility or accessibility of class attributes and methods. Although Python doesn’t have strict enforcement like other languages (e.g., Java), it follows naming conventions to define access levels. There are three types of access modifiers:\n",
        "\n",
        "1. Public:\n",
        "Denoted by: No leading underscores.\n",
        "Accessible from: Anywhere—both inside and outside the class.\n",
        "Usage: Public attributes and methods are the default in Python and can be accessed freely.\n",
        "\n",
        "2. Protected:\n",
        "Denoted by: A single leading underscore (_).\n",
        "Accessible from: Inside the class and its subclasses. It's a convention that indicates the attribute or method should not be accessed directly outside the class, but it's not strictly enforced.\n",
        "Usage: Used to indicate that the attribute or method is intended for internal use, though still accessible if needed.\n",
        "\n",
        "3. Private:\n",
        "Denoted by: Two leading underscores (__).\n",
        "Accessible from: Only within the class where it is defined. Python performs name mangling to make it harder (but still possible) to access private attributes and methods outside the class.\n",
        "Usage: Used to hide sensitive data or methods from outside access.\n"
      ],
      "metadata": {
        "id": "tgkCWj7We5du"
      }
    },
    {
      "cell_type": "code",
      "source": [
        "#Public Modifier:\n",
        "\n",
        "class Car:\n",
        "    def __init__(self, make, model):\n",
        "        # Public attributes\n",
        "        self.make = make\n",
        "        self.model = model\n",
        "\n",
        "    #Public method\n",
        "    def display_info(self):\n",
        "        return f\"Car: {self.make} {self.model}\"\n",
        "\n",
        "#Creating an object\n",
        "car = Car(\"Mahindra\", \"Thar\")\n",
        "\n",
        "#Accessing public attributes and methods from outside the class\n",
        "print (car.make)\n",
        "print (car.model)\n",
        "print (car.display_info())\n"
      ],
      "metadata": {
        "colab": {
          "base_uri": "https://localhost:8080/"
        },
        "id": "wBVxZ8h-fNNZ",
        "outputId": "3531ed7e-9a85-4b55-9218-f77c6c23d643"
      },
      "execution_count": null,
      "outputs": [
        {
          "output_type": "stream",
          "name": "stdout",
          "text": [
            "Mahindra\n",
            "Thar\n",
            "Car: Mahindra Thar\n"
          ]
        }
      ]
    },
    {
      "cell_type": "code",
      "source": [
        "#Protected Modifier:\n",
        "\n",
        "class Car:\n",
        "    def __init__(self, make, model, year):\n",
        "        # Protected attribute\n",
        "        self._year = year\n",
        "\n",
        "    # Protected method\n",
        "    def _display_year(self):\n",
        "        return f\"Year: {self._year}\"\n",
        "\n",
        "# Creating an object\n",
        "car = Car(\"Mahindra\", \"Thar\", 2023)\n",
        "\n",
        "# Accessing protected attributes and methods from outside the class (not recommended)\n",
        "print (car._year)\n",
        "print (car._display_year())"
      ],
      "metadata": {
        "colab": {
          "base_uri": "https://localhost:8080/"
        },
        "id": "mEoVPrmjfY38",
        "outputId": "ad397cf5-200e-4efd-9315-22253b53a710"
      },
      "execution_count": null,
      "outputs": [
        {
          "output_type": "stream",
          "name": "stdout",
          "text": [
            "2023\n",
            "Year: 2023\n"
          ]
        }
      ]
    },
    {
      "cell_type": "code",
      "source": [
        "#Private Modifier:\n",
        "\n",
        "class Car:\n",
        "    def __init__(self, make, model, year, price):\n",
        "        # Private attribute\n",
        "        self.__price = price\n",
        "\n",
        "    #Private method\n",
        "    def __display_price(self):\n",
        "        return f\"Price: ${self.__price}\"\n",
        "\n",
        "    #Public method to display the car details\n",
        "    def display_car_info(self):\n",
        "        return f\"Car details are private!\"\n",
        "\n",
        "#Creating an object\n",
        "car = Car(\"Mahindra\", \"Thar\", 2023, 40000)\n",
        "\n",
        "#Trying to access private attribute and method (will raise error)\n",
        "#print(car.__price)              # This will raise an AttributeError\n",
        "#print(car.__display_price())    # This will raise an AttributeError\n",
        "\n",
        "#Accessing private members using name mangling\n",
        "print (car._Car__price)\n",
        "print (car._Car__display_price())\n"
      ],
      "metadata": {
        "colab": {
          "base_uri": "https://localhost:8080/"
        },
        "id": "y9U8LD-yffnP",
        "outputId": "303b59fa-63a6-4e82-a588-3cf6f60e1a1e"
      },
      "execution_count": null,
      "outputs": [
        {
          "output_type": "stream",
          "name": "stdout",
          "text": [
            "40000\n",
            "Price: $40000\n"
          ]
        }
      ]
    },
    {
      "cell_type": "markdown",
      "source": [
        "#Q 06. Describe the five types of inheritance in Python. Provide a simple example of multiple inheritance.\n",
        "\n",
        "Five types of inheritance in python are:\n",
        "1. Single Inheritance:\n",
        "Inherits from one parent class.\n",
        "Example: Class B inherits from Class A.\n",
        "\n",
        "2. Multiple Inheritance:\n",
        "Inherits from more than one parent class.\n",
        "Example: Class C inherits from both Class A and Class B.\n",
        "\n",
        "3. Multilevel Inheritance:\n",
        "A chain of inheritance where a class inherits from a parent class, and another class inherits from that class.\n",
        "Example: Class C inherits from Class B, which inherits from Class A.\n",
        "\n",
        "4. Hierarchical Inheritance:\n",
        "Multiple classes inherit from the same parent class.\n",
        "Example: Class B and Class C both inherit from Class A.\n",
        "\n",
        "5. Hybrid Inheritance:\n",
        "A combination of two or more types of inheritance.\n",
        "Example: A mix of multiple inheritance and hierarchical inheritance.\n"
      ],
      "metadata": {
        "id": "q6UfpMPWg29F"
      }
    },
    {
      "cell_type": "code",
      "source": [
        "#Example of Multiple Inheritance:\n",
        "\n",
        "class Engine:\n",
        "    def start(self):\n",
        "        return \"Engine started\"\n",
        "\n",
        "class Wheels:\n",
        "    def move(self):\n",
        "        return \"Wheels are moving\"\n",
        "\n",
        "class Car(Engine, Wheels):  # Multiple inheritance from Engine and Wheels\n",
        "    def drive(self):\n",
        "        return \"Car is driving\"\n",
        "\n",
        "# Creating an object of Car class\n",
        "my_car = Car()\n",
        "\n",
        "# Accessing methods from both parent classes\n",
        "print (my_car.start())\n",
        "print (my_car.move())\n",
        "print (my_car.drive())\n"
      ],
      "metadata": {
        "colab": {
          "base_uri": "https://localhost:8080/"
        },
        "id": "WYCC6tF6iBlg",
        "outputId": "056db4a1-a6ed-4e17-b17e-e8c1fc719753"
      },
      "execution_count": null,
      "outputs": [
        {
          "output_type": "stream",
          "name": "stdout",
          "text": [
            "Engine started\n",
            "Wheels are moving\n",
            "Car is driving\n"
          ]
        }
      ]
    },
    {
      "cell_type": "markdown",
      "source": [
        "#Q 07. What is the Method Resolution Order (MRO) in Python? How can you retrieve it programmatically?\n",
        "\n",
        "MRO defines the order in which Python looks for a method or attribute in a hierarchy of classes when multiple inheritance is involved.\n",
        "It follows the C3 linearization algorithm, which ensures a consistent and predictable method resolution order.\n",
        "When you call a method on an object, Python searches through the class hierarchy based on the MRO to find the method implementation.\n",
        "\n",
        "**How MRO Works:**\n",
        "\n",
        "Python first checks the class of the object.\n",
        "If the method is not found, it checks the parent classes in the order defined by the MRO.\n",
        "It continues this search until it finds the method or reaches the top of the hierarchy.\n"
      ],
      "metadata": {
        "id": "YMtV4n_5rtG3"
      }
    },
    {
      "cell_type": "code",
      "source": [
        "#Example of MRO with Multiple Inheritance:\n",
        "\n",
        "class A:\n",
        "    def process(self):\n",
        "        print (\"Process in A\")\n",
        "\n",
        "class B(A):\n",
        "    def process(self):\n",
        "        print (\"Process in B\")\n",
        "\n",
        "class C(A):\n",
        "    def process(self):\n",
        "        print (\"Process in C\")\n",
        "\n",
        "class D(B, C):\n",
        "    pass\n",
        "\n",
        "#Creating an object of class D\n",
        "d = D()\n",
        "d.process()\n"
      ],
      "metadata": {
        "colab": {
          "base_uri": "https://localhost:8080/"
        },
        "id": "rCpmPdVxxDVF",
        "outputId": "a8767292-65ee-4b51-aef3-760198b285dc"
      },
      "execution_count": null,
      "outputs": [
        {
          "output_type": "stream",
          "name": "stdout",
          "text": [
            "Process in B\n"
          ]
        }
      ]
    },
    {
      "cell_type": "code",
      "source": [
        "#Retrieving MRO Programmatically:\n",
        "\n",
        "print (D.mro()) #Using mro() Method:\n",
        "print (D.__mro__) #Using __mro__ Attribute:\n",
        "\n"
      ],
      "metadata": {
        "colab": {
          "base_uri": "https://localhost:8080/"
        },
        "id": "Mw3yOTz8xNCy",
        "outputId": "9e80e65c-e894-463c-f204-010e4ed6932a"
      },
      "execution_count": null,
      "outputs": [
        {
          "output_type": "stream",
          "name": "stdout",
          "text": [
            "[<class '__main__.D'>, <class '__main__.B'>, <class '__main__.C'>, <class '__main__.A'>, <class 'object'>]\n",
            "(<class '__main__.D'>, <class '__main__.B'>, <class '__main__.C'>, <class '__main__.A'>, <class 'object'>)\n"
          ]
        }
      ]
    },
    {
      "cell_type": "markdown",
      "source": [
        "Both methods will return the MRO as a list or tuple. This means:\n",
        "\n",
        "1. Python first looks in D.\n",
        "2. If not found, it looks in B.\n",
        "3. Then in C.\n",
        "4. Then in A.\n",
        "5. Finally, it checks the built-in object class.\n"
      ],
      "metadata": {
        "id": "RGW7BlVRxcyf"
      }
    },
    {
      "cell_type": "markdown",
      "source": [
        "#Q 08.  Create an abstract base class `Shape` with an abstract method `area()`. Then create two subclasses `Circle` and `Rectangle` that implement the `area()` method.\n"
      ],
      "metadata": {
        "id": "0XqI6IHL0Nzm"
      }
    },
    {
      "cell_type": "code",
      "source": [
        "from abc import ABC, abstractmethod\n",
        "import math\n",
        "\n",
        "#Abstract base class\n",
        "class Shape(ABC):\n",
        "    @abstractmethod\n",
        "    def area(self):\n",
        "        pass\n",
        "\n",
        "#Subclass for Circle\n",
        "class Circle(Shape):\n",
        "    def __init__(self, radius):\n",
        "        self.radius = radius\n",
        "\n",
        "    def area(self):\n",
        "        return math.pi * (self.radius ** 2)\n",
        "\n",
        "#Subclass for Rectangle\n",
        "class Rectangle(Shape):\n",
        "    def __init__(self, width, height):\n",
        "        self.width = width\n",
        "        self.height = height\n",
        "\n",
        "    def area(self):\n",
        "        return self.width * self.height\n",
        "\n",
        "#Example usage\n",
        "circle = Circle(5)\n",
        "rectangle = Rectangle(4, 6)\n",
        "\n",
        "print (f\"Circle area: {circle.area()}\")\n",
        "print (f\"Rectangle area: {rectangle.area()}\")\n"
      ],
      "metadata": {
        "colab": {
          "base_uri": "https://localhost:8080/"
        },
        "id": "qJxoS_lQ3EvQ",
        "outputId": "a230d51d-5a75-47fd-899f-2dd65ca66269"
      },
      "execution_count": null,
      "outputs": [
        {
          "output_type": "stream",
          "name": "stdout",
          "text": [
            "Circle area: 78.53981633974483\n",
            "Rectangle area: 24\n"
          ]
        }
      ]
    },
    {
      "cell_type": "markdown",
      "source": [
        "**Abstract Base Class Shape:**\n",
        "Inherits from ABC (Abstract Base Class).\n",
        "Contains an abstract method area() that must be implemented by any subclass.\n",
        "\n",
        "**Subclass Circle:**\n",
        "Implements the area() method to calculate the area of a circle using the formula π * r^2.\n",
        "\n",
        "**Subclass Rectangle:**\n",
        "Implements the area() method to calculate the area of a rectangle using the formula width * height.\n",
        "\n",
        "By using the abstract base class Shape, you enforce that all subclasses must implement the area() method, ensuring a consistent interface across different shapes."
      ],
      "metadata": {
        "id": "CfXzYzlO3Qz5"
      }
    },
    {
      "cell_type": "markdown",
      "source": [
        "#Q 09. Demonstrate polymorphism by creating a function that can work with different shape objects to calculate and print their areas.\n",
        "\n",
        "To demonstrate polymorphism, we can create a function that works with different shape objects to calculate and print their areas. Polymorphism allows the same function to operate on objects of different classes through a common interface (in this case, the area() method)."
      ],
      "metadata": {
        "id": "u1Kx5PzD3J7y"
      }
    },
    {
      "cell_type": "code",
      "source": [
        "from abc import ABC, abstractmethod\n",
        "import math\n",
        "\n",
        "#Abstract base class\n",
        "class Shape(ABC):\n",
        "    @abstractmethod\n",
        "    def area(self):\n",
        "        pass\n",
        "\n",
        "#Subclass for Circle\n",
        "class Circle(Shape):\n",
        "    def __init__(self, radius):\n",
        "        self.radius = radius\n",
        "\n",
        "    def area(self):\n",
        "        return math.pi * (self.radius ** 2)\n",
        "\n",
        "#Subclass for Rectangle\n",
        "class Rectangle(Shape):\n",
        "    def __init__(self, width, height):\n",
        "        self.width = width\n",
        "        self.height = height\n",
        "\n",
        "    def area(self):\n",
        "        return self.width * self.height\n",
        "\n",
        "#Function to calculate and print area of any shape\n",
        "def print_area(shape):\n",
        "    if isinstance(shape, Shape):  # Ensure the object is an instance of Shape\n",
        "        print (f\"The area is: {shape.area()}\")\n",
        "    else:\n",
        "        print (\"Invalid shape object\")\n",
        "\n",
        "# Example usage\n",
        "circle = Circle(5)\n",
        "rectangle = Rectangle(4, 6)\n",
        "\n",
        "print_area (circle)\n",
        "print_area (rectangle)\n"
      ],
      "metadata": {
        "colab": {
          "base_uri": "https://localhost:8080/"
        },
        "id": "WZwmCV3l4MWL",
        "outputId": "09781338-ce62-4df5-c168-90dab1116574"
      },
      "execution_count": null,
      "outputs": [
        {
          "output_type": "stream",
          "name": "stdout",
          "text": [
            "The area is: 78.53981633974483\n",
            "The area is: 24\n"
          ]
        }
      ]
    },
    {
      "cell_type": "markdown",
      "source": [
        "1. Abstract Base Class Shape:\n",
        "   Defines an abstract method area() that must be implemented by subclasses.\n",
        "\n",
        "2. Subclasses Circle and Rectangle:\n",
        "   Each implements the area() method according to its own formula.\n",
        "\n",
        "3. print_area Function:\n",
        "   Takes an object of type Shape and calls its area() method.\n",
        "  Demonstrates polymorphism by working with different shape objects (Circle and Rectangle) in the same way.\n",
        "\n",
        "By using polymorphism, the print_area function can handle any object that follows the Shape interface, regardless of the specific subclass."
      ],
      "metadata": {
        "id": "ZnbG4NHS5Gm1"
      }
    },
    {
      "cell_type": "markdown",
      "source": [
        "#Q 10.  Implement encapsulation in a `BankAccount` class with private attributes for `balance` and `account_number`. Include methods for deposit, withdrawal, and balance inquiry.\n",
        "\n",
        "To implement encapsulation in a BankAccount class, one should use private attributes for balance and account_number and provide public methods to interact with these attributes. Encapsulation helps in hiding the internal state and only exposing a controlled interface for interaction."
      ],
      "metadata": {
        "id": "kVVq_NAt5rJl"
      }
    },
    {
      "cell_type": "code",
      "source": [
        "class BankAccount:\n",
        "    def __init__(self, account_number, initial_balance=0):\n",
        "        self.__account_number = account_number  # Private attribute\n",
        "        self.__balance = initial_balance        # Private attribute\n",
        "\n",
        "    def deposit(self, amount):\n",
        "        if amount > 0:\n",
        "            self.__balance += amount\n",
        "            print(f\"Deposited: ${amount}\")\n",
        "        else:\n",
        "            print(\"Deposit amount must be positive\")\n",
        "\n",
        "    def withdraw(self, amount):\n",
        "        if 0 < amount <= self.__balance:\n",
        "            self.__balance -= amount\n",
        "            print(f\"Withdrew: ${amount}\")\n",
        "        elif amount > self.__balance:\n",
        "            print(\"Insufficient funds\")\n",
        "        else:\n",
        "            print(\"Withdrawal amount must be positive\")\n",
        "\n",
        "    def get_balance(self):\n",
        "        return self.__balance\n",
        "\n",
        "    def get_account_number(self):\n",
        "        return self.__account_number\n",
        "\n",
        "#Example usage\n",
        "account = BankAccount(\"123456789\", 1000)\n",
        "\n",
        "#Deposit money\n",
        "account.deposit(500)\n",
        "\n",
        "#Withdraw money\n",
        "account.withdraw(200)\n",
        "\n",
        "#Check balance\n",
        "print(f\"Balance: ${account.get_balance()}\")\n",
        "\n",
        "#Check account number\n",
        "print(f\"Account Number: {account.get_account_number()}\")\n"
      ],
      "metadata": {
        "colab": {
          "base_uri": "https://localhost:8080/"
        },
        "id": "_3Oyux9W56rx",
        "outputId": "a0b81522-ebbd-445b-afea-2aaa40187ae2"
      },
      "execution_count": null,
      "outputs": [
        {
          "output_type": "stream",
          "name": "stdout",
          "text": [
            "Deposited: $500\n",
            "Withdrew: $200\n",
            "Balance: $1300\n",
            "Account Number: 123456789\n"
          ]
        }
      ]
    },
    {
      "cell_type": "markdown",
      "source": [
        "**Private Attributes:**\n",
        "\n",
        "__account_number and __balance are private attributes, denoted by double underscores (__), meaning they are intended to be accessed only within the class.\n",
        "\n",
        "**Public Methods:**\n",
        "\n",
        "deposit(amount): Adds the given amount to the balance if it is positive.\n",
        "withdraw(amount): Subtracts the given amount from the balance if it is positive and less than or equal to the current balance.\n",
        "get_balance(): Returns the current balance.\n",
        "get_account_number(): Returns the account number.\n",
        "\n",
        "This design ensures that the internal state of the BankAccount (like balance and account_number) is protected from external modification, enforcing controlled access through public methods."
      ],
      "metadata": {
        "id": "8XNh2SY56rLt"
      }
    },
    {
      "cell_type": "markdown",
      "source": [
        "#Q 11. Write a class that overrides the `__str__` and `__add__` magic methods. What will these methods allow you to do?\n",
        "\n",
        "In Python, magic methods (also known as dunder methods) are special methods that allow you to define how objects of your class interact with built-in operations and functions. Overriding the __str__ and __add__ magic methods can enhance the functionality of your class in specific ways:\n",
        "\n",
        "__str__ Method:\n",
        "\n",
        "Allows you to define the string representation of your object. This method is used by the print() function and str() function to create a human-readable string representation of the object.\n",
        "\n",
        "__add__ Method:\n",
        "\n",
        "Allows you to define how objects of your class should behave with the + operator. This method enables you to specify what happens when you add two instances of your class together."
      ],
      "metadata": {
        "id": "fJo3j62M-Uye"
      }
    },
    {
      "cell_type": "code",
      "source": [
        "#Example\n",
        "\n",
        "class Point:\n",
        "    def __init__(self, x, y):\n",
        "        self.x = x\n",
        "        self.y = y\n",
        "\n",
        "    #Override __str__ to provide a custom string representation\n",
        "    def __str__(self):\n",
        "        return f\"Point({self.x}, {self.y})\"\n",
        "\n",
        "    #Override __add__ to define how two Point objects should be added\n",
        "    def __add__(self, other):\n",
        "        if isinstance(other, Point):\n",
        "            return Point(self.x + other.x, self.y + other.y)\n",
        "        return NotImplemented\n",
        "\n",
        "#Example usage\n",
        "p1 = Point(2, 3)\n",
        "p2 = Point(4, 5)\n",
        "\n",
        "#Using __str__ method\n",
        "print (p1)\n",
        "\n",
        "#Using __add__ method\n",
        "p3 = p1 + p2\n",
        "print (p3)\n"
      ],
      "metadata": {
        "colab": {
          "base_uri": "https://localhost:8080/"
        },
        "id": "pPBsxhen-i1H",
        "outputId": "edeaf7b6-6257-4dc6-d012-085c58a5fd17"
      },
      "execution_count": null,
      "outputs": [
        {
          "output_type": "stream",
          "name": "stdout",
          "text": [
            "Point(2, 3)\n",
            "Point(6, 8)\n"
          ]
        }
      ]
    },
    {
      "cell_type": "markdown",
      "source": [
        "__str__ Method:\n",
        "__str__(self) provides a human-readable string representation of the Point object. When you print a Point object or use str(), it will call this method to get the string \"Point(x, y)\".\n",
        "\n",
        "__add__ Method:\n",
        "__add__(self, other) defines how to add two Point objects. When you use the + operator with two Point objects, this method will be called. It adds the x and y coordinates of both points and returns a new Point object with the resulting coordinates."
      ],
      "metadata": {
        "id": "EQ-5x3VlBEXf"
      }
    },
    {
      "cell_type": "markdown",
      "source": [
        "#Q 12. Create a decorator that measures and prints the execution time of a function.\n",
        "\n",
        "To create a decorator that measures and prints the execution time of a function, you can use Python's time module. The decorator will capture the start time before the function executes and the end time after the function completes, then calculate and print the difference."
      ],
      "metadata": {
        "id": "Jmx5DPnkBX3a"
      }
    },
    {
      "cell_type": "code",
      "source": [
        "import time\n",
        "\n",
        "def timing_decorator(func):\n",
        "    def wrapper(*args, **kwargs):\n",
        "        start_time = time.time()  # Record start time\n",
        "        result = func(*args, **kwargs)  # Call the function\n",
        "        end_time = time.time()  # Record end time\n",
        "        execution_time = end_time - start_time  # Calculate execution time\n",
        "        print(f\"{func.__name__} executed in {execution_time:.4f} seconds\")\n",
        "        return result  # Return the result of the function\n",
        "    return wrapper\n",
        "\n",
        "#Example usage\n",
        "@timing_decorator\n",
        "def example_function(n):\n",
        "    total = 0\n",
        "    for i in range(n):\n",
        "        total += i\n",
        "    return total\n",
        "\n",
        "#Call the decorated function\n",
        "result = example_function(1000000)\n",
        "print (f\"Result: {result}\")\n"
      ],
      "metadata": {
        "colab": {
          "base_uri": "https://localhost:8080/"
        },
        "id": "s1oSHLDTBdyo",
        "outputId": "04050487-6b54-435b-fdbb-b464c3bee08e"
      },
      "execution_count": null,
      "outputs": [
        {
          "output_type": "stream",
          "name": "stdout",
          "text": [
            "example_function executed in 0.0886 seconds\n",
            "Result: 499999500000\n"
          ]
        }
      ]
    },
    {
      "cell_type": "markdown",
      "source": [
        "**Decorator Function (timing_decorator):**\n",
        "\n",
        "Takes a function func as its argument.\n",
        "Defines an inner function wrapper that will wrap the original function.\n",
        "Records the start time using time.time().\n",
        "Calls the original function and stores its result.\n",
        "Records the end time using time.time().\n",
        "Calculates the execution time by subtracting the start time from the end time.\n",
        "Prints the execution time and returns the result of the original function.\n",
        "\n",
        "**Applying the Decorator:**\n",
        "\n",
        "Use the @timing_decorator syntax to apply the decorator to example_function.\n",
        "When example_function is called, it will automatically have its execution time measured and printed."
      ],
      "metadata": {
        "id": "lpyh6SW-BtXc"
      }
    },
    {
      "cell_type": "markdown",
      "source": [
        "#Q 13. Explain the concept of the Diamond Problem in multiple inheritance. How does Python resolve it?\n",
        "\n",
        "The Diamond Problem is a classic issue in multiple inheritance where a class inherits from two classes that both inherit from a common base class. This creates a \"diamond\" shape in the inheritance hierarchy.\n",
        "\n",
        "     A\n",
        "    / \\\n",
        "   B   C\n",
        "    \\ /\n",
        "     D\n",
        "\n",
        "\n",
        "B and C both inherit from A.\n",
        "D inherits from both B and C.\n",
        "\n",
        "The problem arises because D can end up with multiple copies of A's attributes and methods, leading to ambiguity. For example, if A has a method foo(), and both B and C override foo(), it's unclear which version of foo() D should use.\n",
        "\n",
        "**How Python Resolves It**\n",
        "\n",
        "Python uses the C3 Linearization algorithm (also known as C3 superclass linearization) to resolve the Diamond Problem. This algorithm ensures a consistent and predictable method resolution order (MRO).\n",
        "\n",
        "Key Points:\n",
        "\n",
        "Consistent Order: Python ensures that the method resolution order is consistent and respects the order of base classes in the inheritance list.\n",
        "\n",
        "Single Path: The algorithm ensures that each class is only visited once, preventing the ambiguity of multiple base class copies."
      ],
      "metadata": {
        "id": "fnTR-GmZB2Am"
      }
    },
    {
      "cell_type": "code",
      "source": [
        "class A:\n",
        "    def foo(self):\n",
        "        print(\"A's foo\")\n",
        "\n",
        "class B(A):\n",
        "    def foo(self):\n",
        "        print(\"B's foo\")\n",
        "\n",
        "class C(A):\n",
        "    def foo(self):\n",
        "        print(\"C's foo\")\n",
        "\n",
        "class D(B, C):\n",
        "    pass\n",
        "\n",
        "#Creating an object of D\n",
        "d = D()\n",
        "d.foo()\n"
      ],
      "metadata": {
        "colab": {
          "base_uri": "https://localhost:8080/"
        },
        "id": "i4HqsvVlCoeg",
        "outputId": "aec25774-65b2-42b3-9562-0cf10189b76f"
      },
      "execution_count": null,
      "outputs": [
        {
          "output_type": "stream",
          "name": "stdout",
          "text": [
            "B's foo\n"
          ]
        }
      ]
    },
    {
      "cell_type": "markdown",
      "source": [
        "#Q 14. Write a class method that keeps track of the number of instances created from a class."
      ],
      "metadata": {
        "id": "8HokwvspC5XY"
      }
    },
    {
      "cell_type": "code",
      "source": [
        "class InstanceTracker:\n",
        "    # Class variable to keep track of the number of instances\n",
        "    _instance_count = 0\n",
        "\n",
        "    def __init__(self):\n",
        "        # Increment the instance count when a new instance is created\n",
        "        InstanceTracker._instance_count += 1\n",
        "\n",
        "    @classmethod\n",
        "    def get_instance_count(cls):\n",
        "        # Return the number of instances created\n",
        "        return cls._instance_count\n",
        "\n",
        "#Example usage\n",
        "obj1 = InstanceTracker()\n",
        "obj2 = InstanceTracker()\n",
        "obj3 = InstanceTracker()\n",
        "\n",
        "print (f\"Number of instances created: {InstanceTracker.get_instance_count()}\")\n"
      ],
      "metadata": {
        "colab": {
          "base_uri": "https://localhost:8080/"
        },
        "id": "5kM4DOrhDE05",
        "outputId": "6453ab64-9352-4024-9a7c-a30e2fa047f8"
      },
      "execution_count": null,
      "outputs": [
        {
          "output_type": "stream",
          "name": "stdout",
          "text": [
            "Number of instances created: 3\n"
          ]
        }
      ]
    },
    {
      "cell_type": "markdown",
      "source": [
        "**Class Variable _instance_count:**\n",
        "\n",
        "A class variable _instance_count is used to keep track of the number of instances created. It is shared among all instances of the class.\n",
        "\n",
        "**__init__ Method:**\n",
        "\n",
        "The constructor method __init__ increments _instance_count each time a new instance of InstanceTracker is created.\n",
        "\n",
        "**get_instance_count Class Method:**\n",
        "\n",
        "This class method returns the value of _instance_count. It uses cls to refer to the class itself, allowing access to class variables and methods.\n",
        "\n",
        "By using a class variable and a class method, you can easily track and retrieve the number of instances created from the class."
      ],
      "metadata": {
        "id": "bqTb-ksdDIFh"
      }
    },
    {
      "cell_type": "markdown",
      "source": [
        "#Q 15. Implement a static method in a class that checks if a given year is a leap year.\n",
        "\n",
        "To implement a static method in a class that checks if a given year is a leap year, you can use the rules for determining leap years:\n",
        "\n",
        "A year is a leap year if it is divisible by 4.\n",
        "However, if it is divisible by 100, it is not a leap year unless it is also divisible by 400."
      ],
      "metadata": {
        "id": "OF1z7aC0DVw1"
      }
    },
    {
      "cell_type": "code",
      "source": [
        "class YearUtils:\n",
        "    @staticmethod\n",
        "    def is_leap_year(year):\n",
        "        \"\"\"Check if a given year is a leap year.\"\"\"\n",
        "        if year % 4 == 0:\n",
        "            if year % 100 == 0:\n",
        "                if year % 400 == 0:\n",
        "                    return True\n",
        "                else:\n",
        "                    return False\n",
        "            else:\n",
        "                return True\n",
        "        else:\n",
        "            return False\n",
        "\n",
        "# Example usage\n",
        "print (YearUtils.is_leap_year(2020))\n",
        "print (YearUtils.is_leap_year(1900))\n",
        "print (YearUtils.is_leap_year(2000))\n",
        "print (YearUtils.is_leap_year(2023))\n"
      ],
      "metadata": {
        "colab": {
          "base_uri": "https://localhost:8080/"
        },
        "id": "T5pWbdQLDZt9",
        "outputId": "ca4cd4cc-f45b-4a77-d94c-c7a36b929cd5"
      },
      "execution_count": null,
      "outputs": [
        {
          "output_type": "stream",
          "name": "stdout",
          "text": [
            "True\n",
            "False\n",
            "True\n",
            "False\n"
          ]
        }
      ]
    },
    {
      "cell_type": "markdown",
      "source": [
        "**Static Method is_leap_year:**\n",
        "\n",
        "Defined with the @staticmethod decorator, which allows the method to be called on the class itself rather than an instance.\n",
        "Takes year as a parameter and checks if it is a leap year using the rules mentioned.\n",
        "\n",
        "**Leap Year Calculation:**\n",
        "\n",
        "Divisible by 4: If true, proceed to the next check.\n",
        "Divisible by 100: If true, proceed to the final check.\n",
        "Divisible by 400: If true, it is a leap year; otherwise, it is not."
      ],
      "metadata": {
        "id": "svY3p5a9Dr7E"
      }
    },
    {
      "cell_type": "markdown",
      "source": [],
      "metadata": {
        "id": "kZVVOv0yCOgO"
      }
    }
  ]
}